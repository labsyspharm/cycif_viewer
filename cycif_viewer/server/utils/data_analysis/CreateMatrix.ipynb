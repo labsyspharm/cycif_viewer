{
 "cells": [
  {
   "cell_type": "code",
   "execution_count": 3,
   "metadata": {},
   "outputs": [],
   "source": [
    "from cvae import cvae\n",
    "import numpy as np"
   ]
  },
  {
   "cell_type": "code",
   "execution_count": 4,
   "metadata": {},
   "outputs": [],
   "source": [
    "A = np.load(\"neighborhood_array_complex.npy\")"
   ]
  },
  {
   "cell_type": "code",
   "execution_count": 7,
   "metadata": {},
   "outputs": [
    {
     "name": "stdout",
     "output_type": "stream",
     "text": [
      "Total amount of data:  1238764\n",
      "Input feature dimension:  26\n",
      "Calculating normalisation factors.\n",
      "Normalisation factors calculated.\n",
      "Total amount of data:  137641\n",
      "Creating model.\n",
      "Model created.\n",
      "Setting up loss.\n",
      "Loss set up.\n",
      "Setting up session.\n",
      "Session set up.\n",
      "Trying to restore saved checkpoints from /Users/Simon/Research/cycif_viewer/server/temp ... No checkpoint found.\n",
      "No model found to restore. Initialising new model.\n"
     ]
    }
   ],
   "source": [
    "embedder = cvae.CompressionVAE(A)"
   ]
  },
  {
   "cell_type": "code",
   "execution_count": 9,
   "metadata": {},
   "outputs": [
    {
     "name": "stdout",
     "output_type": "stream",
     "text": [
      "step 100; epoch 0.01 - loss = 11.126, test_loss = 15.186, lr = 0.00100, (0.251 sec/step)\n",
      "step 150; epoch 0.01 - loss = 12.650, test_loss = 15.041, lr = 0.00100, (0.251 sec/step)\n",
      "step 200; epoch 0.01 - loss = 14.243, test_loss = 14.967, lr = 0.00100, (0.241 sec/step)\n",
      "step 250; epoch 0.01 - loss = 11.414, test_loss = 14.861, lr = 0.00100, (0.248 sec/step)\n",
      "step 300; epoch 0.02 - loss = 15.428, test_loss = 14.822, lr = 0.00100, (0.244 sec/step)\n",
      "step 350; epoch 0.02 - loss = 14.605, test_loss = 14.757, lr = 0.00100, (0.241 sec/step)\n",
      "step 400; epoch 0.02 - loss = 11.836, test_loss = 14.551, lr = 0.00100, (0.237 sec/step)\n",
      "step 450; epoch 0.02 - loss = 14.732, test_loss = 14.333, lr = 0.00100, (0.241 sec/step)\n",
      "step 500; epoch 0.03 - loss = 12.696, test_loss = 14.066, lr = 0.00100, (0.236 sec/step)\n",
      "step 550; epoch 0.03 - loss = 8.773, test_loss = 13.966, lr = 0.00100, (0.237 sec/step)\n",
      "step 600; epoch 0.03 - loss = 12.199, test_loss = 13.903, lr = 0.00100, (0.255 sec/step)\n",
      "step 650; epoch 0.03 - loss = 11.267, test_loss = 13.752, lr = 0.00100, (0.242 sec/step)\n",
      "step 700; epoch 0.04 - loss = 11.693, test_loss = 13.642, lr = 0.00100, (0.257 sec/step)\n",
      "step 750; epoch 0.04 - loss = 10.565, test_loss = 13.577, lr = 0.00100, (0.242 sec/step)\n",
      "step 800; epoch 0.04 - loss = 10.932, test_loss = 13.570, lr = 0.00100, (0.285 sec/step)\n",
      "step 850; epoch 0.04 - loss = 9.651, test_loss = 13.540, lr = 0.00100, (0.318 sec/step)\n",
      "step 900; epoch 0.05 - loss = 10.642, test_loss = 13.464, lr = 0.00100, (0.351 sec/step)\n",
      "step 950; epoch 0.05 - loss = 10.563, test_loss = 13.453, lr = 0.00100, (0.330 sec/step)\n",
      "step 1000; epoch 0.05 - loss = 10.354, test_loss = 13.454, lr = 0.00100, (0.322 sec/step)\n",
      "step 1050; epoch 0.05 - loss = 11.483, test_loss = 13.424, lr = 0.00100, (0.323 sec/step)\n",
      "step 1100; epoch 0.06 - loss = 12.689, test_loss = 13.441, lr = 0.00100, (0.311 sec/step)\n",
      "step 1150; epoch 0.06 - loss = 10.736, test_loss = 13.417, lr = 0.00100, (0.333 sec/step)\n",
      "step 1200; epoch 0.06 - loss = 10.744, test_loss = 13.423, lr = 0.00100, (0.321 sec/step)\n",
      "step 1250; epoch 0.06 - loss = 12.307, test_loss = 13.378, lr = 0.00100, (0.342 sec/step)\n",
      "step 1300; epoch 0.07 - loss = 13.033, test_loss = 13.382, lr = 0.00100, (0.293 sec/step)\n",
      "step 1350; epoch 0.07 - loss = 12.300, test_loss = 13.356, lr = 0.00100, (0.319 sec/step)\n",
      "step 1400; epoch 0.07 - loss = 9.126, test_loss = 13.367, lr = 0.00100, (0.285 sec/step)\n",
      "step 1450; epoch 0.07 - loss = 9.596, test_loss = 13.406, lr = 0.00100, (0.271 sec/step)\n",
      "step 1500; epoch 0.08 - loss = 11.555, test_loss = 13.413, lr = 0.00100, (0.321 sec/step)\n",
      "step 1550; epoch 0.08 - loss = 16.462, test_loss = 13.370, lr = 0.00100, (0.312 sec/step)\n",
      "No improvement on validation data for 5 test steps. Decreasing learning rate by factor 5\n",
      "step 1600; epoch 0.08 - loss = 13.029, test_loss = 13.326, lr = 0.00020, (0.330 sec/step)\n",
      "step 1650; epoch 0.09 - loss = 20.467, test_loss = 13.361, lr = 0.00020, (0.365 sec/step)\n",
      "step 1700; epoch 0.09 - loss = 16.226, test_loss = 13.323, lr = 0.00020, (0.407 sec/step)\n",
      "step 1750; epoch 0.09 - loss = 12.277, test_loss = 13.328, lr = 0.00020, (0.390 sec/step)\n",
      "step 1800; epoch 0.09 - loss = 16.992, test_loss = 13.349, lr = 0.00020, (0.402 sec/step)\n",
      "step 1850; epoch 0.10 - loss = 12.223, test_loss = 13.330, lr = 0.00020, (0.507 sec/step)\n",
      "step 1900; epoch 0.10 - loss = 12.902, test_loss = 13.310, lr = 0.00020, (0.347 sec/step)\n",
      "step 1950; epoch 0.10 - loss = 11.052, test_loss = 13.315, lr = 0.00020, (0.306 sec/step)\n",
      "step 2000; epoch 0.10 - loss = 11.640, test_loss = 13.311, lr = 0.00020, (0.298 sec/step)\n",
      "Storing checkpoint to /Users/Simon/Research/cycif_viewer/server/temp ... Done.\n",
      "step 2050; epoch 0.11 - loss = 11.304, test_loss = 13.332, lr = 0.00020, (0.287 sec/step)\n",
      "step 2100; epoch 0.11 - loss = 12.931, test_loss = 13.331, lr = 0.00020, (0.263 sec/step)\n",
      "No improvement on validation data for 5 test steps. Decreasing learning rate by factor 5\n",
      "step 2150; epoch 0.11 - loss = 11.989, test_loss = 13.326, lr = 0.00004, (0.260 sec/step)\n",
      "step 2200; epoch 0.11 - loss = 9.949, test_loss = 13.331, lr = 0.00004, (0.246 sec/step)\n",
      "No improvement on validation data for 5 test steps. Decreasing learning rate by factor 5\n",
      "Reached learning rate threshold of 1e-05. Stopping.\n",
      "Storing checkpoint to /Users/Simon/Research/cycif_viewer/server/temp ... Done.\n"
     ]
    },
    {
     "data": {
      "text/plain": [
       "<cvae.cvae.CompressionVAE at 0x7f85b7fb6610>"
      ]
     },
     "execution_count": 9,
     "metadata": {},
     "output_type": "execute_result"
    }
   ],
   "source": [
    "embedder.train()\n"
   ]
  },
  {
   "cell_type": "code",
   "execution_count": 6,
   "metadata": {},
   "outputs": [],
   "source": []
  },
  {
   "cell_type": "code",
   "execution_count": 9,
   "metadata": {},
   "outputs": [],
   "source": []
  },
  {
   "cell_type": "code",
   "execution_count": 11,
   "metadata": {},
   "outputs": [],
   "source": []
  },
  {
   "cell_type": "code",
   "execution_count": 5,
   "metadata": {},
   "outputs": [
    {
     "name": "stdout",
     "output_type": "stream",
     "text": [
      "50078395.0\n"
     ]
    }
   ],
   "source": [
    "print(A[:, 0::2].sum())"
   ]
  },
  {
   "cell_type": "code",
   "execution_count": 15,
   "metadata": {},
   "outputs": [
    {
     "name": "stdout",
     "output_type": "stream",
     "text": [
      "/opt/anaconda3/bin/pip\r\n"
     ]
    }
   ],
   "source": [
    "!which pip"
   ]
  },
  {
   "cell_type": "code",
   "execution_count": null,
   "metadata": {},
   "outputs": [],
   "source": []
  }
 ],
 "metadata": {
  "kernelspec": {
   "display_name": "Python [conda env:neighborhood]",
   "language": "python",
   "name": "conda-env-neighborhood-py"
  },
  "language_info": {
   "codemirror_mode": {
    "name": "ipython",
    "version": 3
   },
   "file_extension": ".py",
   "mimetype": "text/x-python",
   "name": "python",
   "nbconvert_exporter": "python",
   "pygments_lexer": "ipython3",
   "version": "3.7.6"
  },
  "toc": {
   "base_numbering": 1,
   "nav_menu": {},
   "number_sections": true,
   "sideBar": true,
   "skip_h1_title": false,
   "title_cell": "Table of Contents",
   "title_sidebar": "Contents",
   "toc_cell": false,
   "toc_position": {},
   "toc_section_display": true,
   "toc_window_display": false
  },
  "varInspector": {
   "cols": {
    "lenName": 16,
    "lenType": 16,
    "lenVar": 40
   },
   "kernels_config": {
    "python": {
     "delete_cmd_postfix": "",
     "delete_cmd_prefix": "del ",
     "library": "var_list.py",
     "varRefreshCmd": "print(var_dic_list())"
    },
    "r": {
     "delete_cmd_postfix": ") ",
     "delete_cmd_prefix": "rm(",
     "library": "var_list.r",
     "varRefreshCmd": "cat(var_dic_list()) "
    }
   },
   "types_to_exclude": [
    "module",
    "function",
    "builtin_function_or_method",
    "instance",
    "_Feature"
   ],
   "window_display": false
  }
 },
 "nbformat": 4,
 "nbformat_minor": 2
}
