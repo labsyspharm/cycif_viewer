{
 "cells": [
  {
   "cell_type": "code",
   "execution_count": 4,
   "metadata": {},
   "outputs": [],
   "source": [
    "from sklearn.neighbors import BallTree\n",
    "from tqdm import tqdm\n",
    "import numpy as np\n",
    "import pandas as pd\n",
    "\n",
    "\n"
   ]
  },
  {
   "cell_type": "code",
   "execution_count": 11,
   "metadata": {},
   "outputs": [
    {
     "name": "stderr",
     "output_type": "stream",
     "text": [
      "\n",
      "\n",
      "  0%|          | 0/1376405 [00:00<?, ?it/s]\u001b[A\u001b[A\n"
     ]
    }
   ],
   "source": [
    "from sklearn.neighbors import BallTree\n",
    "from tqdm import tqdm\n",
    "import numpy as np\n",
    "import pandas as pd\n",
    "\n",
    "\n",
    "raw_data = pd.read_csv(\"..//data/tonsil_with_phenotype.csv\")\n",
    "data = raw_data[['X_centroid', 'Y_centroid', 'phenotype']].copy()\n",
    "phenotypes = {val: idx for idx, val in enumerate(data.phenotype.unique())}\n",
    "points = pd.DataFrame({'x': raw_data['X_centroid'], 'y': raw_data['Y_centroid']})\n",
    "ball_tree = BallTree(points, metric='euclidean')\n",
    "temp = []\n",
    "neighborhood_matrix = np.zeros((data.shape[0], len(phenotypes)*2))\n",
    "A = data.to_numpy()\n",
    "n = []\n",
    "d = []\n",
    "for i in tqdm(range(A.shape[0])):\n",
    "    index, distance = ball_tree.query_radius([[A[i, 0], A[i, 1]]], r=50, return_distance=True)\n",
    "    neighbors = list(index[0])\n",
    "    distances = list(distance[0])\n",
    "    for k in range(len(neighbors)):\n",
    "        neighbor = neighbors[k]\n",
    "        distance = distances[k]\n",
    "        neighbor_phenotype = A[neighbor,2]\n",
    "        neighbor_phenotype_index = phenotypes[neighbor_phenotype]*2\n",
    "        weight = 1\n",
    "        if distance > 25:\n",
    "            weight = 1 - (distance - 25) / 25\n",
    "        neighborhood_matrix[i, neighbor_phenotype_index+1] += weight\n",
    "        neighborhood_matrix[i,neighbor_phenotype_index] += 1\n",
    "    break"
   ]
  },
  {
   "cell_type": "code",
   "execution_count": 15,
   "metadata": {},
   "outputs": [
    {
     "name": "stderr",
     "output_type": "stream",
     "text": [
      "\n",
      "\n",
      "  0%|          | 0/1376405 [00:00<?, ?it/s]\u001b[A\u001b[A\n",
      "\n",
      "  0%|          | 29/1376405 [00:00<1:20:59, 283.23it/s]\u001b[A\u001b[A\n",
      "\n",
      "  0%|          | 60/1376405 [00:00<1:19:24, 288.89it/s]\u001b[A\u001b[A\n",
      "\n",
      "  0%|          | 91/1376405 [00:00<1:27:21, 262.59it/s]\u001b[A\u001b[A\n"
     ]
    }
   ],
   "source": [
    "for i in tqdm(range(A.shape[0])):\n",
    "    index, distance = ball_tree.query_radius([[A[i, 0], A[i, 1]]], r=50, return_distance=True)\n",
    "    neighbors = list(index[0])\n",
    "    distances = list(distance[0])\n",
    "    for k in range(len(neighbors)):\n",
    "        neighbor = neighbors[k]\n",
    "        distance = distances[k]\n",
    "        neighbor_phenotype = A[neighbor,2]\n",
    "        neighbor_phenotype_index = phenotypes[neighbor_phenotype]*2\n",
    "        weight = 1\n",
    "        if distance > 25:\n",
    "            weight = 1 - (distance - 25) / 25\n",
    "        neighborhood_matrix[i, neighbor_phenotype_index+1] += weight\n",
    "        neighborhood_matrix[i,neighbor_phenotype_index] += 1\n",
    "    if i > 100:\n",
    "        break"
   ]
  },
  {
   "cell_type": "code",
   "execution_count": 20,
   "metadata": {},
   "outputs": [
    {
     "data": {
      "text/plain": [
       "array([ 2.        ,  0.3307104 ,  8.        ,  4.20443928,  4.        ,\n",
       "        1.28964302, 10.        ,  9.40371007,  4.        ,  2.25481628,\n",
       "        2.        ,  2.        ,  0.        ,  0.        ,  0.        ,\n",
       "        0.        ,  8.        ,  4.12432483,  0.        ,  0.        ,\n",
       "        0.        ,  0.        ,  0.        ,  0.        ,  2.        ,\n",
       "        1.85499728])"
      ]
     },
     "execution_count": 20,
     "metadata": {},
     "output_type": "execute_result"
    }
   ],
   "source": [
    "neighborhood_matrix[100,:]"
   ]
  },
  {
   "cell_type": "code",
   "execution_count": null,
   "metadata": {},
   "outputs": [],
   "source": []
  }
 ],
 "metadata": {
  "kernelspec": {
   "display_name": "PyCharm (neighborhood_viewer)",
   "language": "python",
   "name": "pycharm-d2b685d0"
  },
  "language_info": {
   "codemirror_mode": {
    "name": "ipython",
    "version": 3
   },
   "file_extension": ".py",
   "mimetype": "text/x-python",
   "name": "python",
   "nbconvert_exporter": "python",
   "pygments_lexer": "ipython3",
   "version": "3.7.8"
  },
  "toc": {
   "base_numbering": 1,
   "nav_menu": {},
   "number_sections": true,
   "sideBar": true,
   "skip_h1_title": false,
   "title_cell": "Table of Contents",
   "title_sidebar": "Contents",
   "toc_cell": false,
   "toc_position": {},
   "toc_section_display": true,
   "toc_window_display": false
  },
  "varInspector": {
   "cols": {
    "lenName": 16,
    "lenType": 16,
    "lenVar": 40
   },
   "kernels_config": {
    "python": {
     "delete_cmd_postfix": "",
     "delete_cmd_prefix": "del ",
     "library": "var_list.py",
     "varRefreshCmd": "print(var_dic_list())"
    },
    "r": {
     "delete_cmd_postfix": ") ",
     "delete_cmd_prefix": "rm(",
     "library": "var_list.r",
     "varRefreshCmd": "cat(var_dic_list()) "
    }
   },
   "types_to_exclude": [
    "module",
    "function",
    "builtin_function_or_method",
    "instance",
    "_Feature"
   ],
   "window_display": false
  }
 },
 "nbformat": 4,
 "nbformat_minor": 4
}
